{
 "cells": [
  {
   "cell_type": "markdown",
   "metadata": {},
   "source": [
    "# Data Science at UCSB\n",
    "\n",
    "# Python for Data Science: Data Projects\n",
    "\n",
    "## Jason Freeberg, Fall 2016\n",
    "\n",
    "Today we'll begin the process of tackling mini data projects over the rest of the quarter."
   ]
  },
  {
   "cell_type": "markdown",
   "metadata": {},
   "source": [
    "### Project Ideas\n",
    "\n",
    "- Stream Tweets into a Database\n",
    "    - Over summmer I took the [Tweepy](http://tweepy.readthedocs.io/en/v3.5.0/) module and wrapped it with some of [my own code](https://github.com/JasonFreeberg/StreamTweets) to constantly stream Tweet data into a MongoDB database for later use. My extra code helps the buffer recover if the WiFI drops and will attempt to reconnect.\n",
    "    - I made it so you guys could skip the data wrangling phase and start using interesting data.\n",
    "    - The code can easily be used to stream Tweets into a MySQL database, a pandas DataFrame, or even just a list of  Tweet text.\n",
    "- Help Jason complete the StreamTweets docs\n",
    "    - I need a group of people to help and write an Inertia7 tutorial and documentation for the module mentioned above.\n",
    "    - This could be a great way to get your name out on the interwebs. \n",
    "- Do a Kaggle competition\n",
    "    - Submitting a model on a Kaggle competition is a very rewarding feeling. \n",
    "    - These competitions require a moderate level of statistical know-how. \n",
    "- ..."
   ]
  },
  {
   "cell_type": "markdown",
   "metadata": {},
   "source": [
    "### Working in Groups\n",
    "\n",
    "- 3 to 4 people is optimal\n",
    "    - Get a mix of skill levels, majors, and grade levels.\n",
    "- Someone must volunteer to be the Project Manager\n",
    "    - This person is responsible for keeping the group together\n",
    "        - Making a FB group, getting everyone's contact info, a GitHub repo, etc. \n",
    "- Set a **very** clear and attainable goal\n",
    "    - Bad: \"We want to explore Twitter data.\"\n",
    "    - Better: \"We want to make visualizations of Tweets somehow.\"\n",
    "    - Best: \"We want to make a geographical visualizations of US Tweets color coded by 'Trump' or 'Hillary'.\"\n",
    "- Get to know your teammates"
   ]
  },
  {
   "cell_type": "code",
   "execution_count": null,
   "metadata": {
    "collapsed": true
   },
   "outputs": [],
   "source": []
  }
 ],
 "metadata": {
  "kernelspec": {
   "display_name": "Python 3",
   "language": "python",
   "name": "python3"
  },
  "language_info": {
   "codemirror_mode": {
    "name": "ipython",
    "version": 3
   },
   "file_extension": ".py",
   "mimetype": "text/x-python",
   "name": "python",
   "nbconvert_exporter": "python",
   "pygments_lexer": "ipython3",
   "version": "3.5.1"
  }
 },
 "nbformat": 4,
 "nbformat_minor": 0
}
