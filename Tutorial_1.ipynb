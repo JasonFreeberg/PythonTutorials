{
 "cells": [
  {
   "cell_type": "markdown",
   "metadata": {
    "collapsed": true
   },
   "source": [
    "# Data Science at UCSB\n",
    "# Python for Data Science: Introduction\n",
    "**Jason Freeberg, Fall 2016\n",
    "\n",
    "Welcome to the club! This quarter we will write Python code to load, manipulate, and analyze data using the pandas and NumPy packages. The labs and corresponding notebooks are designed to *supplement* what you will learn from DataCamp.com. You will learn Python syntax on their website, and reinforce it in lab. To put it another way, the labs assume that you are keeping up with the assigned DataCamp.com tutorials. Towards the end of the lab you will **work in groups of 3 or 4 on quick exercises**. Weeks 6 through 10 will be focused on a small-scale group project.\n",
    "\n",
    "Some resources:\n",
    "* [Data Camp](https://www.datacamp.com) Where you'll be doing homework.\n",
    "* [Python for Data Analysis](http://shop.oreilly.com/product/0636920023784.do) Written by the creator of the pandas module. A free PDF is available online.\n",
    "* [Reddit Datasets](https://www.reddit.com/r/datasets/) A good place to get data for personal projects.\n",
    "* [Python Walkthrough](https://docs.python.org/3/tutorial/index.html) Covers the basics of Python at a low level, essentially a guided tour through the Python documentation.\n",
    "* [Stack Exchange](http://stackexchange.com/) Because why figure it out on your own when someone smarter already did?\n",
    "* [Jason](https://www.linkedin.com/in/jfreeberg) I'll put up my email and cell number in lab (these notebooks are public). \n",
    "\n",
    "\n",
    "Today we'll go over some foundations of OOP (Object Oriented Programming) with Python and cover some useful functions. Specifically, we will go over *classes*, *objects*, *modules* and the functions for getting information on them."
   ]
  },
  {
   "cell_type": "markdown",
   "metadata": {},
   "source": [
    "# Classes\n",
    "\n",
    "Have you taken an intro programming class? Congratulations, you already know what a class is.\n",
    "\n",
    "If not, ever been in a car? Congratulations, you already know what a class is.\n",
    "\n",
    "At a high level, classes are the instructions (or blueprints) for creating objects, their initial values, and the functions to manipulate them. Let's use an example that's not related to programming... Ford Motor Company has the schematics for building their trucks and cars, like the Ford F-150. The schematics tell the employees where to put each piece, the starting values for things like the speedometer, fluid tanks, and so on. The schematics can also tell the employees to change the truck based on input--think of trim options like fog lights and leather steering wheels. \n",
    "\n",
    "The cell below defines a class for Ford F-150 trucks."
   ]
  },
  {
   "cell_type": "code",
   "execution_count": null,
   "metadata": {},
   "outputs": [],
   "source": [
    "class F150:\n",
    "    \"\"\"\n",
    "    A basic class definition. We have attributes that are numeric, logical, and strings.\n",
    "    \n",
    "    The methods are simple, they only update the attributes. \n",
    "    \"\"\"\n",
    "    # These are the shared attributes of the class. When an 'F150' object is created, it will have these values.\n",
    "    make = 'Ford'\n",
    "    year = 2016\n",
    "    \n",
    "    # This method defines the inital values when an object is created. \n",
    "    # Notice that the function parameters have default values.\n",
    "    def __init__(self, cyl = 6, speedoTop = 120, fluidsOK = True, SteeringWheel = 'Standard', fogLights = True):\n",
    "        self.cylinders = cyl # Number of cylinders in the engine, the standard is a V8\n",
    "        self.speedoTop = speedoTop # Top speed on the speedometer, in MPH\n",
    "        self.fuildLevelsOK = fluidsOK\n",
    "        self.SteeringWheel = SteeringWheel\n",
    "        self.fogLights = fogLights\n",
    "    \n",
    "    # And here are the methods...\n",
    "    # This method changes the type of steering wheel that will be built into the truck\n",
    "    # Use the \"self.\" operator to indicate that you are accessing the class's attributes\n",
    "    def updateWheel(self, NewWheelType):\n",
    "        self.SteeringWheel = NewWheelType\n",
    "    \n",
    "    # This updates the top speed that will be printer on the speedomter\n",
    "    def updateMeterTop(self, NewTop):\n",
    "        self.speedoMeterTop = NewTop"
   ]
  },
  {
   "cell_type": "markdown",
   "metadata": {},
   "source": [
    ""
   ]
  },
  {
   "cell_type": "markdown",
   "metadata": {},
   "source": [
    " **Note**: *In Python, we generally don't write functions to edit the private variables (cylinders, speedoMeterTop, etc.) we just access them directly. I defined updateWheel() and updateMeterTop() only to show the syntax for member function definition and preview the dot operator. *"
   ]
  },
  {
   "cell_type": "markdown",
   "metadata": {},
   "source": [
    ""
   ]
  },
  {
   "cell_type": "markdown",
   "metadata": {},
   "source": [
    "# Objects\n",
    "\n",
    "Let's continue with our truck example and tie it back to a programming context. Now we have the blueprint (class) for making F150 trucks! In the physical world, we use blueprints and instructions to make *things*. Literally, we use the intructions in a Lego set to make the final toy. Likewise, we can make *things* from our class and interact with them in our script, and we call them **objects**. We can make a an entire fleet of F150 truck obects and have them race... if we edit the above class definition to allow for a throttle and brakes ;).\n",
    "\n",
    "In this hypothetical, the blueprints also have the instructions for different trims, engines and other bells and whistles. So when we create a new truck object, we can change those attributes and use its methods/functions. To access the attributes of an object, or to use functions to edit those attributes, we use the **dot operator**. The syntax is: *object*.*attribute* or *object*.*method()*\n",
    "\n",
    "In the cell below we create two objects, **truck1** and **truck2**. Look closely at the print statements to see the dot operator for accessing object attributes.\n",
    "\n",
    "**FYI:** class instance == object of a class"
   ]
  },
  {
   "cell_type": "code",
   "execution_count": null,
   "metadata": {},
   "outputs": [],
   "source": [
    "# Here is the syntax for creating an instance of a class, using the deafaults\n",
    "truck1 = F150()\n",
    "truck2 = F150(cyl = 4, speedoTop = 100, fluidsOK = False, SteeringWheel = 'Leather', fogLights = False)\n",
    "\n",
    "print 'The number of cylinders in truck1 = ', truck1.cylinders\n",
    "print 'The type of steering wheel in truck1 is', truck1.SteeringWheel\n",
    "if truck1.fogLights == True:\n",
    "    print 'truck1 has fog lights'\n",
    "else:\n",
    "    print 'truck1 does not have fog lights'\n",
    "\n",
    "print '------------------------------------------------------------'\n",
    "\n",
    "print 'The number of cylinders in truck1 = ', truck2.cylinders\n",
    "print 'The type of steering wheel in truck1 is', truck2.SteeringWheel\n",
    "\n",
    "# Since .fogLights is a boolean, we don't actually need to check \"== True\"\n",
    "if truck2.fogLights:\n",
    "    print 'truck2 has fog lights'\n",
    "else:\n",
    "    print 'truck2 does not have fog lights'"
   ]
  },
  {
   "cell_type": "code",
   "execution_count": null,
   "metadata": {},
   "outputs": [],
   "source": [
    "# Adjusting the values\n",
    "\n",
    "truck1.updateMeterTop(160)\n",
    "truck1.updateWheel('Batmobile Steering Wheel')\n",
    "\n",
    "truck2.updateMeterTop('One Hundred and Thirty')\n",
    "truck2.updateWheel('GameCube Controller')\n",
    "\n",
    "# Print the new values\n",
    "\n",
    "print \"truck1's top speedo tick =\", truck1.speedoMeterTop, \"and it's new steering wheel is a\", truck1.SteeringWheel\n",
    "print \"truck2's top speedo tick =\", truck2.speedoMeterTop, \"and it's new steering wheel is a\", truck2.SteeringWheel"
   ]
  },
  {
   "cell_type": "markdown",
   "metadata": {},
   "source": [
    "# Modules\n",
    "\n",
    "If you end up using Python in a data-related role, chances are that you won't often be defining your own classes... you will be using those defined by other people. NumPy and pandas are collections of data structures, classes, and modules all neatly packaged into modules\\*. Once the modules are downloaded onto your computer via pip or 'conda, you can quickly bring them into your script. Let's take a look.\n",
    "\n",
    "\\* Also known as libraries or packages if you come from an R background ;)"
   ]
  },
  {
   "cell_type": "code",
   "execution_count": null,
   "metadata": {},
   "outputs": [],
   "source": [
    "# These all acomplish the same task of importing the module, with slight differences. For more information, look to the Python documention. For this quarter's tutorial, we will use the second convention.\n",
    "\n",
    "import numpy\n",
    "import numpy as np # This is the common convention for importing numpy\n",
    "from numpy import *"
   ]
  },
  {
   "cell_type": "markdown",
   "metadata": {},
   "source": [
    ""
   ]
  },
  {
   "cell_type": "markdown",
   "metadata": {},
   "source": [
    "# Helpful Functions\n",
    "\n",
    "As stated above, you will often use modules created by other people. This begs the question: *how do I learn how to use the classes and functions?* Well that requires a two-part answer.\n",
    "\n",
    "* Abstraction: Assume we have a list and use a method called \"average(*list*)\" from the base Python library. We can safely assume that it will return the average of the list. Do we need to know exactly **how** it accomplishes this? Absolutely not! It would be a waste of time to learn and check the implementations of every function in the NumPy package.\n",
    "* Inspection: There are base Python functions to inspect classes, objects, and methods. This way we can get the attributes and methods of an object we're working with. Let's take a look at some."
   ]
  },
  {
   "cell_type": "code",
   "execution_count": null,
   "metadata": {},
   "outputs": [],
   "source": [
    "import inspect\n",
    "anotherTruck = F150()\n",
    "\n",
    "print \"Output of dir() method:\"\n",
    "print dir(anotherTruck), '\\n'  # Base function, returns list of attributes\n",
    "\n",
    "print \"Output of getmembers() method called on class:\"\n",
    "for item in inspect.getmembers(F150):  # From inspect module, returns tuples of (attribute, description)\n",
    "    print item\n",
    "  \n",
    "print '\\n', \"Output of getmembers() method called on class instance:\"\n",
    "for item in inspect.getmembers(anotherTruck):  # From inspect module, returns tuples of (attribute, description)\n",
    "    print item"
   ]
  },
  {
   "cell_type": "markdown",
   "metadata": {},
   "source": [
    ""
   ]
  }
 ],
 "metadata": {
  "kernelspec": {
   "display_name": "Python 2",
   "language": "python",
   "name": "python2"
  },
  "language_info": {
   "codemirror_mode": {
    "name": "ipython",
    "version": 2.0
   },
   "file_extension": ".py",
   "mimetype": "text/x-python",
   "name": "python",
   "nbconvert_exporter": "python",
   "pygments_lexer": "ipython2",
   "version": "2.7.6"
  }
 },
 "nbformat": 4,
 "nbformat_minor": 0
}